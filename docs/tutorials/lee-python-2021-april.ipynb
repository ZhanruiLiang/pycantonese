{
 "cells": [
  {
   "cell_type": "markdown",
   "id": "smooth-tongue",
   "metadata": {},
   "source": [
    "# Basic Python for Linguists in 10 Minutes\n",
    "\n",
    "[Jackson Lee](https://jacksonllee.com/)\n",
    "\n",
    "April 2021"
   ]
  },
  {
   "cell_type": "markdown",
   "id": "still-window",
   "metadata": {},
   "source": [
    "## Introduction\n",
    "\n",
    "Perhaps you're attending a class or tutorial that says \"prior experience in Python programming is helpful but not required\" or similar. You may not have a background in computer programming and/or the Python language, but would like to attend and get something out of it nonetheless. Before attending, and if you have 10 minutes to spare, the following topics are the bare minimum that you'd want to understand, at least by reading through the code snippets in this Jupyter notebook (this is the name of this thing you're reading right now - Jupyter is pronounced like the planet in our solar system):\n",
    "\n",
    "* *Strings*, probably the most important type of Python objects you need to know when handling language data\n",
    "* *Lists*, to deal with a bunch of things\n",
    "* *Loops*, to do something repeatedly\n",
    "* *Conditionals*, to do X instead of Y by some condition\n",
    "\n",
    "If you're a linguist, picking up a language should be a piece of cake. 🙂"
   ]
  },
  {
   "cell_type": "markdown",
   "id": "vietnamese-lounge",
   "metadata": {},
   "source": [
    "## Strings\n",
    "\n",
    "To work with language data in Python, understand how **strings** work."
   ]
  },
  {
   "cell_type": "code",
   "execution_count": 1,
   "id": "ancient-january",
   "metadata": {},
   "outputs": [],
   "source": [
    "x = \"this is a string\""
   ]
  },
  {
   "cell_type": "markdown",
   "id": "noble-tamil",
   "metadata": {},
   "source": [
    "What's just happened? We've assigned the string `\"this is a string\"` to the variable `x`."
   ]
  },
  {
   "cell_type": "code",
   "execution_count": 2,
   "id": "lyric-chair",
   "metadata": {},
   "outputs": [
    {
     "data": {
      "text/plain": [
       "str"
      ]
     },
     "execution_count": 2,
     "metadata": {},
     "output_type": "execute_result"
    }
   ],
   "source": [
    "type(x)"
   ]
  },
  {
   "cell_type": "markdown",
   "id": "amino-stranger",
   "metadata": {},
   "source": [
    "How many characters are there in the string? The **`len()`** (for \"length\") function is defined for strings (and many other data types for which the idea of \"number of things in it\" makes sense)."
   ]
  },
  {
   "cell_type": "code",
   "execution_count": 3,
   "id": "completed-tattoo",
   "metadata": {},
   "outputs": [
    {
     "data": {
      "text/plain": [
       "16"
      ]
     },
     "execution_count": 3,
     "metadata": {},
     "output_type": "execute_result"
    }
   ],
   "source": [
    "len(x)"
   ]
  },
  {
   "cell_type": "markdown",
   "id": "reported-rescue",
   "metadata": {},
   "source": [
    "Access the first character. Python counts from zero, like many programming languages."
   ]
  },
  {
   "cell_type": "code",
   "execution_count": 4,
   "id": "thorough-minutes",
   "metadata": {},
   "outputs": [
    {
     "data": {
      "text/plain": [
       "'t'"
      ]
     },
     "execution_count": 4,
     "metadata": {},
     "output_type": "execute_result"
    }
   ],
   "source": [
    "x[0]"
   ]
  },
  {
   "cell_type": "markdown",
   "id": "continental-confusion",
   "metadata": {},
   "source": [
    "You can **slice** a string. Access the characters from index 5 to (but excluding) index 10.\n",
    "You get back a string whose length is 5, for indices {5, 6, 7, 8, 9}.\n",
    "(Yes, the space is a character and has a length of one.)"
   ]
  },
  {
   "cell_type": "code",
   "execution_count": 5,
   "id": "standing-attention",
   "metadata": {},
   "outputs": [
    {
     "data": {
      "text/plain": [
       "'is a '"
      ]
     },
     "execution_count": 5,
     "metadata": {},
     "output_type": "execute_result"
    }
   ],
   "source": [
    "x[5:10]"
   ]
  },
  {
   "cell_type": "markdown",
   "id": "handled-robin",
   "metadata": {},
   "source": [
    "## Lists"
   ]
  },
  {
   "cell_type": "markdown",
   "id": "attended-directory",
   "metadata": {},
   "source": [
    "We can handle a single string like `x` above. What about multiple strings? Sure, we can define more variables:"
   ]
  },
  {
   "cell_type": "code",
   "execution_count": 6,
   "id": "nuclear-subcommittee",
   "metadata": {},
   "outputs": [],
   "source": [
    "y = \"this is another string\"\n",
    "z = \"this is yet another string\""
   ]
  },
  {
   "cell_type": "markdown",
   "id": "favorite-virginia",
   "metadata": {},
   "source": [
    "Okay, you see where this is going. What if we want to handle many more? Definig variables one by one isn't sustainable. We need a way to deal with _a bunch of things_. That's where containers in Python come in. We're going to see how **lists** in Python work below. (There're many other options -- hey, you've got only ten minutes!)"
   ]
  },
  {
   "cell_type": "markdown",
   "id": "public-edwards",
   "metadata": {},
   "source": [
    "Note how square brackets `[ ]` are used to define a list."
   ]
  },
  {
   "cell_type": "code",
   "execution_count": 7,
   "id": "drawn-fetish",
   "metadata": {},
   "outputs": [],
   "source": [
    "words = [\"cats\", \"dogs\"]"
   ]
  },
  {
   "cell_type": "code",
   "execution_count": 8,
   "id": "approximate-things",
   "metadata": {},
   "outputs": [
    {
     "data": {
      "text/plain": [
       "list"
      ]
     },
     "execution_count": 8,
     "metadata": {},
     "output_type": "execute_result"
    }
   ],
   "source": [
    "type(words)"
   ]
  },
  {
   "cell_type": "markdown",
   "id": "heated-supplier",
   "metadata": {},
   "source": [
    "Just like strings, you can ask for the length of a list."
   ]
  },
  {
   "cell_type": "code",
   "execution_count": 9,
   "id": "demanding-emerald",
   "metadata": {},
   "outputs": [
    {
     "data": {
      "text/plain": [
       "2"
      ]
     },
     "execution_count": 9,
     "metadata": {},
     "output_type": "execute_result"
    }
   ],
   "source": [
    "len(words)"
   ]
  },
  {
   "cell_type": "markdown",
   "id": "specialized-morocco",
   "metadata": {},
   "source": [
    "The ordering of the elements in a list is important."
   ]
  },
  {
   "cell_type": "code",
   "execution_count": 10,
   "id": "documented-lighter",
   "metadata": {
    "scrolled": true
   },
   "outputs": [
    {
     "data": {
      "text/plain": [
       "False"
      ]
     },
     "execution_count": 10,
     "metadata": {},
     "output_type": "execute_result"
    }
   ],
   "source": [
    "[\"cats\", \"dogs\"] == [\"dogs\", \"cats\"]"
   ]
  },
  {
   "cell_type": "markdown",
   "id": "married-hunger",
   "metadata": {},
   "source": [
    "Elements in a list can repeat."
   ]
  },
  {
   "cell_type": "code",
   "execution_count": 11,
   "id": "maritime-washer",
   "metadata": {},
   "outputs": [],
   "source": [
    "more_words = [\"cats\", \"dogs\", \"dogs\"]"
   ]
  },
  {
   "cell_type": "code",
   "execution_count": 12,
   "id": "convinced-fabric",
   "metadata": {},
   "outputs": [
    {
     "data": {
      "text/plain": [
       "['cats', 'dogs', 'dogs']"
      ]
     },
     "execution_count": 12,
     "metadata": {},
     "output_type": "execute_result"
    }
   ],
   "source": [
    "more_words"
   ]
  },
  {
   "cell_type": "code",
   "execution_count": 13,
   "id": "serious-filing",
   "metadata": {},
   "outputs": [
    {
     "data": {
      "text/plain": [
       "3"
      ]
     },
     "execution_count": 13,
     "metadata": {},
     "output_type": "execute_result"
    }
   ],
   "source": [
    "len(more_words)"
   ]
  },
  {
   "cell_type": "markdown",
   "id": "consolidated-radical",
   "metadata": {},
   "source": [
    "Remember the string `x` from above? We can break it up by the spaces to create a list of words."
   ]
  },
  {
   "cell_type": "code",
   "execution_count": 14,
   "id": "sensitive-relationship",
   "metadata": {},
   "outputs": [
    {
     "data": {
      "text/plain": [
       "'this is a string'"
      ]
     },
     "execution_count": 14,
     "metadata": {},
     "output_type": "execute_result"
    }
   ],
   "source": [
    "x"
   ]
  },
  {
   "cell_type": "markdown",
   "id": "retained-concentrate",
   "metadata": {},
   "source": [
    "`.split()` applies to a string."
   ]
  },
  {
   "cell_type": "code",
   "execution_count": 15,
   "id": "crude-reflection",
   "metadata": {},
   "outputs": [],
   "source": [
    "result = x.split()"
   ]
  },
  {
   "cell_type": "code",
   "execution_count": 16,
   "id": "seeing-village",
   "metadata": {
    "scrolled": true
   },
   "outputs": [
    {
     "data": {
      "text/plain": [
       "['this', 'is', 'a', 'string']"
      ]
     },
     "execution_count": 16,
     "metadata": {},
     "output_type": "execute_result"
    }
   ],
   "source": [
    "result"
   ]
  },
  {
   "cell_type": "code",
   "execution_count": 17,
   "id": "relative-symbol",
   "metadata": {},
   "outputs": [
    {
     "data": {
      "text/plain": [
       "list"
      ]
     },
     "execution_count": 17,
     "metadata": {},
     "output_type": "execute_result"
    }
   ],
   "source": [
    "type(result)"
   ]
  },
  {
   "cell_type": "code",
   "execution_count": 18,
   "id": "affiliated-sender",
   "metadata": {},
   "outputs": [
    {
     "data": {
      "text/plain": [
       "4"
      ]
     },
     "execution_count": 18,
     "metadata": {},
     "output_type": "execute_result"
    }
   ],
   "source": [
    "len(result)"
   ]
  },
  {
   "cell_type": "markdown",
   "id": "scientific-fantasy",
   "metadata": {},
   "source": [
    "See how things are getting more interesting now? We've just begun combing knowledge of strings and lists."
   ]
  },
  {
   "cell_type": "markdown",
   "id": "biological-maker",
   "metadata": {},
   "source": [
    "A list behaves just like a string does for the slicing syntax with `[0]`, `[5:10]`, etc that we've seen above for strings."
   ]
  },
  {
   "cell_type": "code",
   "execution_count": 19,
   "id": "spare-productivity",
   "metadata": {},
   "outputs": [
    {
     "data": {
      "text/plain": [
       "'this'"
      ]
     },
     "execution_count": 19,
     "metadata": {},
     "output_type": "execute_result"
    }
   ],
   "source": [
    "result[0]"
   ]
  },
  {
   "cell_type": "code",
   "execution_count": 20,
   "id": "finished-collins",
   "metadata": {
    "scrolled": true
   },
   "outputs": [
    {
     "data": {
      "text/plain": [
       "'string'"
      ]
     },
     "execution_count": 20,
     "metadata": {},
     "output_type": "execute_result"
    }
   ],
   "source": [
    "result[-1]  # [-1] gives the final element."
   ]
  },
  {
   "cell_type": "markdown",
   "id": "documentary-selling",
   "metadata": {},
   "source": [
    "Slicing a list gives you a list, just as slicing a string gives you a string."
   ]
  },
  {
   "cell_type": "code",
   "execution_count": 21,
   "id": "strategic-flesh",
   "metadata": {},
   "outputs": [
    {
     "data": {
      "text/plain": [
       "['this', 'is']"
      ]
     },
     "execution_count": 21,
     "metadata": {},
     "output_type": "execute_result"
    }
   ],
   "source": [
    "result[:2]  # If the starting index isn't specified, it's 0, i.e., from the beginning."
   ]
  },
  {
   "cell_type": "markdown",
   "id": "unauthorized-stand",
   "metadata": {},
   "source": [
    "## `for` loops"
   ]
  },
  {
   "cell_type": "markdown",
   "id": "terminal-italy",
   "metadata": {},
   "source": [
    "You've probably heard that computers are very good repeating a task over and over. Let's see how Python **loops** work. We'll have time for **`for`** loops only."
   ]
  },
  {
   "cell_type": "code",
   "execution_count": 22,
   "id": "lasting-physics",
   "metadata": {},
   "outputs": [
    {
     "data": {
      "text/plain": [
       "['this', 'is', 'a', 'string']"
      ]
     },
     "execution_count": 22,
     "metadata": {},
     "output_type": "execute_result"
    }
   ],
   "source": [
    "result"
   ]
  },
  {
   "cell_type": "code",
   "execution_count": 23,
   "id": "impressed-wales",
   "metadata": {},
   "outputs": [
    {
     "name": "stdout",
     "output_type": "stream",
     "text": [
      "this\n",
      "t\n",
      "is\n",
      "i\n",
      "a\n",
      "a\n",
      "string\n",
      "s\n"
     ]
    }
   ],
   "source": [
    "for word in result:\n",
    "    print(word)\n",
    "    print(word[0])"
   ]
  },
  {
   "cell_type": "markdown",
   "id": "molecular-stress",
   "metadata": {},
   "source": [
    "Okay, let's unpack what you've just seen.\n",
    "\n",
    "* `result` is a list of four strings.\n",
    "* We iterate over each of them and give it a variable name `word` -- that's the `for word in result:` part.\n",
    "* With every `word`, we do something: just print it, and then just print the first character of it.\n",
    "\n",
    "This is a toy example, but the power comes in when you have a lot of elements to iterate over, and when you can control what the computer should do in specific iterations given some condition."
   ]
  },
  {
   "cell_type": "markdown",
   "id": "chief-cattle",
   "metadata": {},
   "source": [
    "## Conditionals\n",
    "\n",
    "No, we aren't talking about counterfactuals, etc. Conditionals in programming languages are just about the plain, indicative kind."
   ]
  },
  {
   "cell_type": "code",
   "execution_count": 24,
   "id": "apart-blackjack",
   "metadata": {},
   "outputs": [
    {
     "name": "stdout",
     "output_type": "stream",
     "text": [
      "hi\n"
     ]
    }
   ],
   "source": [
    "if 3 > 2:\n",
    "    print(\"hi\")"
   ]
  },
  {
   "cell_type": "code",
   "execution_count": 25,
   "id": "weighted-finding",
   "metadata": {},
   "outputs": [],
   "source": [
    "if 3 < 2:\n",
    "    print(\"hi\")"
   ]
  },
  {
   "cell_type": "markdown",
   "id": "facial-proposition",
   "metadata": {},
   "source": [
    "If condition C is true, do X. If condition C is not true, don't do X. Got it? (For the semanticists / pragmaticists / logicians out there, I know what you have in mind...)"
   ]
  },
  {
   "cell_type": "code",
   "execution_count": 26,
   "id": "respective-toner",
   "metadata": {},
   "outputs": [
    {
     "name": "stdout",
     "output_type": "stream",
     "text": [
      "bye\n"
     ]
    }
   ],
   "source": [
    "if 3 < 2:\n",
    "    print(\"hi\")\n",
    "else:\n",
    "    print(\"bye\")"
   ]
  },
  {
   "cell_type": "markdown",
   "id": "protecting-mother",
   "metadata": {},
   "source": [
    "This is an if-else code block. If some condition is true, do X, or else do Y instead.\n",
    "\n",
    "This is the point when in a language class you're tossed with an example that combines some of what you've been introduced explicitly (possibly with new stuff), you're left squinting and trying to make sense of it, and when you finally do you feel having accomplished a lot today:"
   ]
  },
  {
   "cell_type": "code",
   "execution_count": 27,
   "id": "superior-ready",
   "metadata": {},
   "outputs": [],
   "source": [
    "text = \"Among the languages that are spoken today, only few are even tolerably well known to science. Of many we have inadequate information, of others none at all.\"\n",
    "# The very first sentence of the chapter \"The Languages of the World\" in Bloomfield's (1933) _Language_\n",
    "\n",
    "start_with_a = []\n",
    "not_start_with_a = []\n",
    "\n",
    "for word in text.strip().lower().split():\n",
    "    if word.startswith(\"a\"):\n",
    "        start_with_a.append(word)\n",
    "    else:\n",
    "        not_start_with_a.append(word)"
   ]
  },
  {
   "cell_type": "code",
   "execution_count": 28,
   "id": "successful-montgomery",
   "metadata": {
    "scrolled": true
   },
   "outputs": [
    {
     "data": {
      "text/plain": [
       "['among', 'are', 'are', 'at', 'all.']"
      ]
     },
     "execution_count": 28,
     "metadata": {},
     "output_type": "execute_result"
    }
   ],
   "source": [
    "start_with_a"
   ]
  },
  {
   "cell_type": "code",
   "execution_count": 29,
   "id": "viral-statement",
   "metadata": {
    "scrolled": false
   },
   "outputs": [
    {
     "data": {
      "text/plain": [
       "['the',\n",
       " 'languages',\n",
       " 'that',\n",
       " 'spoken',\n",
       " 'today,',\n",
       " 'only',\n",
       " 'few',\n",
       " 'even',\n",
       " 'tolerably',\n",
       " 'well',\n",
       " 'known',\n",
       " 'to',\n",
       " 'science.',\n",
       " 'of',\n",
       " 'many',\n",
       " 'we',\n",
       " 'have',\n",
       " 'inadequate',\n",
       " 'information,',\n",
       " 'of',\n",
       " 'others',\n",
       " 'none']"
      ]
     },
     "execution_count": 29,
     "metadata": {},
     "output_type": "execute_result"
    }
   ],
   "source": [
    "not_start_with_a"
   ]
  },
  {
   "cell_type": "markdown",
   "id": "bronze-garlic",
   "metadata": {},
   "source": [
    "I hope you've found this 10-minute tutorial helpful!"
   ]
  }
 ],
 "metadata": {
  "kernelspec": {
   "display_name": "Python 3",
   "language": "python",
   "name": "python3"
  },
  "language_info": {
   "codemirror_mode": {
    "name": "ipython",
    "version": 3
   },
   "file_extension": ".py",
   "mimetype": "text/x-python",
   "name": "python",
   "nbconvert_exporter": "python",
   "pygments_lexer": "ipython3",
   "version": "3.9.2"
  }
 },
 "nbformat": 4,
 "nbformat_minor": 5
}
